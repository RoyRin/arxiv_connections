{
 "cells": [
  {
   "cell_type": "code",
   "execution_count": null,
   "metadata": {},
   "outputs": [],
   "source": [
    "%load_ext nb_black"
   ]
  },
  {
   "cell_type": "code",
   "execution_count": null,
   "metadata": {},
   "outputs": [],
   "source": [
    "import click\n",
    "import logging\n",
    "import pandas as pd\n",
    "import os\n",
    "import ast\n",
    "\n",
    "# Local files\n",
    "import graphing\n",
    "import arxiv_util\n",
    "\n",
    "# Development:\n",
    "from importlib import reload"
   ]
  },
  {
   "cell_type": "code",
   "execution_count": null,
   "metadata": {},
   "outputs": [],
   "source": [
    "# Original Author you want to investigate\n",
    "original_author = \"Dmitry Rinberg\"\n",
    "\n",
    "# If you have an existing articles file, point csv_path to it\n",
    "parent_dir = os.path.dirname(os.getcwd())\n",
    "csv_path = os.path.join(parent_dir, \"test_data/dmitry_rinberg.csv\")"
   ]
  },
  {
   "cell_type": "code",
   "execution_count": null,
   "metadata": {},
   "outputs": [],
   "source": [
    "# If you have a csv of articles already, upload those articles directly\n",
    "if csv_path:\n",
    "    articles = pd.read_csv(csv_path)\n",
    "    articles[\"authors\"] = articles[\"authors\"].apply(\n",
    "        lambda authors: ast.literal_eval(authors)\n",
    "    )\n",
    "else:\n",
    "    max_results_per_search = 3\n",
    "    max_depth = 3\n",
    "    articles = arxiv_traverser.BFS_author_query(\n",
    "        original_author=original_author,\n",
    "        max_search_results=max_results_per_search,\n",
    "        max_depth=max_depth,\n",
    "    )\n",
    "    # If you wish to save the CSV, specify filepath to 'save_csv'\n",
    "    save_csv = None\n",
    "    if save_csv:\n",
    "        articles.to_csv(save_csv)\n",
    "\n",
    "# articles.head()"
   ]
  },
  {
   "cell_type": "code",
   "execution_count": null,
   "metadata": {},
   "outputs": [],
   "source": [
    "# generate a graph of authors, where the weight is the number of papers shared\n",
    "G = arxiv_traverser.generate_author_graph(articles)\n"
   ]
  },
  {
   "cell_type": "code",
   "execution_count": null,
   "metadata": {},
   "outputs": [],
   "source": [
    "# plot_weighted_graph(G)\n",
    "reload(graphing)\n",
    "reload(arxiv_traverser)\n",
    "\n",
    "graphing.graph(G, original_author)"
   ]
  },
  {
   "cell_type": "code",
   "execution_count": null,
   "metadata": {},
   "outputs": [],
   "source": []
  },
  {
   "cell_type": "code",
   "execution_count": null,
   "metadata": {},
   "outputs": [],
   "source": []
  }
 ],
 "metadata": {
  "kernelspec": {
   "display_name": "Python 3",
   "language": "python",
   "name": "python3"
  },
  "language_info": {
   "codemirror_mode": {
    "name": "ipython",
    "version": 3
   },
   "file_extension": ".py",
   "mimetype": "text/x-python",
   "name": "python",
   "nbconvert_exporter": "python",
   "pygments_lexer": "ipython3",
   "version": "3.7.5"
  }
 },
 "nbformat": 4,
 "nbformat_minor": 4
}
