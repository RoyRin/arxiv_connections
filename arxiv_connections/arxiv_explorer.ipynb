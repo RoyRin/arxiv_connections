{
 "cells": [
  {
   "cell_type": "code",
   "execution_count": 1,
   "metadata": {},
   "outputs": [],
   "source": [
    "# !pip3 install pandas networkx matplotlib  plotly  nb_black"
   ]
  },
  {
   "cell_type": "code",
   "execution_count": 2,
   "metadata": {},
   "outputs": [],
   "source": [
    "#%load_ext nb_black"
   ]
  },
  {
   "cell_type": "code",
   "execution_count": 3,
   "metadata": {},
   "outputs": [],
   "source": [
    "#!pip3 list\n"
   ]
  },
  {
   "cell_type": "code",
   "execution_count": 4,
   "metadata": {},
   "outputs": [],
   "source": [
    "import logging\n",
    "import os\n",
    "import ast\n",
    "import pandas as pd\n",
    "\n",
    "# Local files\n",
    "import graphing\n",
    "import arxiv_util\n",
    "\n",
    "# Development:\n",
    "from importlib import reload"
   ]
  },
  {
   "cell_type": "code",
   "execution_count": 5,
   "metadata": {},
   "outputs": [],
   "source": [
    "# Original Author you want to investigate\n",
    "original_author = \"Dmitry Rinberg\"\n",
    "\n",
    "# If you have an existing articles file, point csv_path to it\n",
    "parent_dir = os.path.dirname(os.getcwd())\n",
    "csv_path = os.path.join(parent_dir, \"example_data/dmitry_rinberg.csv\")\n",
    "csv_path = None"
   ]
  },
  {
   "cell_type": "code",
   "execution_count": 13,
   "metadata": {},
   "outputs": [],
   "source": [
    "original_author = \"Sonja Johnson-Yu\""
   ]
  },
  {
   "cell_type": "code",
   "execution_count": 14,
   "metadata": {},
   "outputs": [],
   "source": [
    "# If you have a csv of articles already, upload those articles directly\n",
    "if csv_path:\n",
    "    articles = pd.read_csv(csv_path)\n",
    "    articles[\"authors\"] = articles[\"authors\"].apply(\n",
    "        lambda authors: ast.literal_eval(authors)\n",
    "    )\n",
    "else:\n",
    "    max_results_per_search = 3\n",
    "    max_depth = 3\n",
    "    halve_queries_per_graph_deepening = True  \n",
    "    articles = arxiv_util.BFS_author_query(\n",
    "            original_author=original_author,\n",
    "            max_search_results=max_results_per_search,\n",
    "            halve_queries_by_depth=halve_queries_per_graph_deepening,\n",
    "            max_depth=max_depth)\n",
    "    # If you wish to save the CSV, specify filepath to 'save_csv'\n",
    "    save_csv = None\n",
    "    if save_csv:\n",
    "        articles.to_csv(save_csv)\n",
    "\n",
    "# articles.head()"
   ]
  },
  {
   "cell_type": "code",
   "execution_count": 15,
   "metadata": {},
   "outputs": [],
   "source": [
    "# generate a graph of authors, where the weight is the number of papers shared\n",
    "G = arxiv_util.generate_author_graph(articles)\n"
   ]
  },
  {
   "cell_type": "code",
   "execution_count": 16,
   "metadata": {},
   "outputs": [
    {
     "data": {
      "application/vnd.plotly.v1+json": {
       "config": {
        "plotlyServerURL": "https://plot.ly"
       },
       "data": [
        {
         "hoverinfo": "text",
         "line": {
          "color": "#888",
          "width": 0.5
         },
         "mode": "lines",
         "text": [
          "shared papers: 4",
          "shared papers: 4",
          "shared papers: 4",
          "shared papers: 4",
          "shared papers: 4",
          "shared papers: 4",
          "shared papers: 4",
          "shared papers: 4",
          "shared papers: 5",
          "shared papers: 1",
          "shared papers: 1",
          "shared papers: 1",
          "shared papers: 1",
          "shared papers: 4",
          "shared papers: 4",
          "shared papers: 4",
          "shared papers: 4",
          "shared papers: 4",
          "shared papers: 4",
          "shared papers: 4",
          "shared papers: 4",
          "shared papers: 1",
          "shared papers: 4",
          "shared papers: 4",
          "shared papers: 4",
          "shared papers: 4",
          "shared papers: 4",
          "shared papers: 4",
          "shared papers: 4",
          "shared papers: 1",
          "shared papers: 1",
          "shared papers: 1",
          "shared papers: 1",
          "shared papers: 1",
          "shared papers: 1",
          "shared papers: 1",
          "shared papers: 4",
          "shared papers: 4",
          "shared papers: 4",
          "shared papers: 4",
          "shared papers: 4",
          "shared papers: 4",
          "shared papers: 4",
          "shared papers: 4",
          "shared papers: 4",
          "shared papers: 4",
          "shared papers: 4",
          "shared papers: 1",
          "shared papers: 4",
          "shared papers: 4",
          "shared papers: 4",
          "shared papers: 4",
          "shared papers: 4",
          "shared papers: 4",
          "shared papers: 4",
          "shared papers: 4",
          "shared papers: 4",
          "shared papers: 4",
          "shared papers: 1",
          "shared papers: 1",
          "shared papers: 1",
          "shared papers: 1",
          "shared papers: 1",
          "shared papers: 1",
          "shared papers: 1",
          "shared papers: 1",
          "shared papers: 1",
          "shared papers: 1",
          "shared papers: 1",
          "shared papers: 1",
          "shared papers: 1",
          "shared papers: 1",
          "shared papers: 1",
          "shared papers: 1",
          "shared papers: 1",
          "shared papers: 1",
          "shared papers: 1",
          "shared papers: 1",
          "shared papers: 1",
          "shared papers: 1",
          "shared papers: 1",
          "shared papers: 1",
          "shared papers: 1",
          "shared papers: 1",
          "shared papers: 1",
          "shared papers: 1",
          "shared papers: 1",
          "shared papers: 1",
          "shared papers: 1"
         ],
         "type": "scatter",
         "x": [
          0.2819945942280787,
          0.1795687834630285,
          null,
          0.2819945942280787,
          -0.1407881223350949,
          null,
          0.2819945942280787,
          0.23090781217075806,
          null,
          0.2819945942280787,
          0.2944071855667062,
          null,
          0.2819945942280787,
          0.07733563750287395,
          null,
          0.2819945942280787,
          0.10966551104203226,
          null,
          0.2819945942280787,
          0.07296923717951274,
          null,
          0.2819945942280787,
          0.16685129945794494,
          null,
          0.2819945942280787,
          0.3420274615353529,
          null,
          0.2819945942280787,
          0.5848779425798681,
          null,
          0.2819945942280787,
          0.8450624443355896,
          null,
          0.2819945942280787,
          0.7602245467438046,
          null,
          0.2819945942280787,
          0.8589321247664844,
          null,
          0.1795687834630285,
          -0.1407881223350949,
          null,
          0.1795687834630285,
          0.23090781217075806,
          null,
          0.1795687834630285,
          0.2944071855667062,
          null,
          0.1795687834630285,
          0.07733563750287395,
          null,
          0.1795687834630285,
          0.10966551104203226,
          null,
          0.1795687834630285,
          0.07296923717951274,
          null,
          0.1795687834630285,
          0.16685129945794494,
          null,
          0.1795687834630285,
          0.3420274615353529,
          null,
          0.1795687834630285,
          0.3332091820506577,
          null,
          -0.1407881223350949,
          0.23090781217075806,
          null,
          -0.1407881223350949,
          0.2944071855667062,
          null,
          -0.1407881223350949,
          0.07733563750287395,
          null,
          -0.1407881223350949,
          0.10966551104203226,
          null,
          -0.1407881223350949,
          0.07296923717951274,
          null,
          -0.1407881223350949,
          0.16685129945794494,
          null,
          -0.1407881223350949,
          0.3420274615353529,
          null,
          -0.1407881223350949,
          -0.8112841587333355,
          null,
          -0.1407881223350949,
          -0.834336765451512,
          null,
          -0.1407881223350949,
          -0.7006564249624629,
          null,
          -0.1407881223350949,
          -0.7111821969823124,
          null,
          -0.1407881223350949,
          -0.8903437190405343,
          null,
          -0.1407881223350949,
          -0.978523568562486,
          null,
          -0.1407881223350949,
          -0.9921998167210192,
          null,
          0.23090781217075806,
          0.2944071855667062,
          null,
          0.23090781217075806,
          0.07733563750287395,
          null,
          0.23090781217075806,
          0.10966551104203226,
          null,
          0.23090781217075806,
          0.07296923717951274,
          null,
          0.23090781217075806,
          0.16685129945794494,
          null,
          0.23090781217075806,
          0.3420274615353529,
          null,
          0.2944071855667062,
          0.07733563750287395,
          null,
          0.2944071855667062,
          0.10966551104203226,
          null,
          0.2944071855667062,
          0.07296923717951274,
          null,
          0.2944071855667062,
          0.16685129945794494,
          null,
          0.2944071855667062,
          0.3420274615353529,
          null,
          0.2944071855667062,
          0.9212810101660663,
          null,
          0.07733563750287395,
          0.10966551104203226,
          null,
          0.07733563750287395,
          0.07296923717951274,
          null,
          0.07733563750287395,
          0.16685129945794494,
          null,
          0.07733563750287395,
          0.3420274615353529,
          null,
          0.10966551104203226,
          0.07296923717951274,
          null,
          0.10966551104203226,
          0.16685129945794494,
          null,
          0.10966551104203226,
          0.3420274615353529,
          null,
          0.07296923717951274,
          0.16685129945794494,
          null,
          0.07296923717951274,
          0.3420274615353529,
          null,
          0.16685129945794494,
          0.3420274615353529,
          null,
          0.3420274615353529,
          0.5848779425798681,
          null,
          0.3420274615353529,
          0.8450624443355896,
          null,
          0.3420274615353529,
          0.7602245467438046,
          null,
          0.3420274615353529,
          0.8589321247664844,
          null,
          -0.8112841587333355,
          -0.834336765451512,
          null,
          -0.8112841587333355,
          -0.7006564249624629,
          null,
          -0.8112841587333355,
          -0.7111821969823124,
          null,
          -0.8112841587333355,
          -0.8903437190405343,
          null,
          -0.8112841587333355,
          -0.978523568562486,
          null,
          -0.8112841587333355,
          -0.9921998167210192,
          null,
          -0.834336765451512,
          -0.7006564249624629,
          null,
          -0.834336765451512,
          -0.7111821969823124,
          null,
          -0.834336765451512,
          -0.8903437190405343,
          null,
          -0.834336765451512,
          -0.978523568562486,
          null,
          -0.834336765451512,
          -0.9921998167210192,
          null,
          -0.7006564249624629,
          -0.7111821969823124,
          null,
          -0.7006564249624629,
          -0.8903437190405343,
          null,
          -0.7006564249624629,
          -0.978523568562486,
          null,
          -0.7006564249624629,
          -0.9921998167210192,
          null,
          -0.7111821969823124,
          -0.8903437190405343,
          null,
          -0.7111821969823124,
          -0.978523568562486,
          null,
          -0.7111821969823124,
          -0.9921998167210192,
          null,
          -0.8903437190405343,
          -0.978523568562486,
          null,
          -0.8903437190405343,
          -0.9921998167210192,
          null,
          -0.978523568562486,
          -0.9921998167210192,
          null,
          0.5848779425798681,
          0.8450624443355896,
          null,
          0.5848779425798681,
          0.7602245467438046,
          null,
          0.5848779425798681,
          0.8589321247664844,
          null,
          0.8450624443355896,
          0.7602245467438046,
          null,
          0.8450624443355896,
          0.8589321247664844,
          null,
          0.7602245467438046,
          0.8589321247664844,
          null
         ],
         "y": [
          -0.15135999384159893,
          0.2085570107654309,
          null,
          -0.15135999384159893,
          0.014242984094038813,
          null,
          -0.15135999384159893,
          0.04414577456244162,
          null,
          -0.15135999384159893,
          0.13891134666256164,
          null,
          -0.15135999384159893,
          0.03294195461904745,
          null,
          -0.15135999384159893,
          0.1206259278570361,
          null,
          -0.15135999384159893,
          -0.08116425441412772,
          null,
          -0.15135999384159893,
          -0.0565874433628359,
          null,
          -0.15135999384159893,
          -0.08256827375373853,
          null,
          -0.15135999384159893,
          -0.5977747819191369,
          null,
          -0.15135999384159893,
          -0.4331997105578347,
          null,
          -0.15135999384159893,
          -0.5936546212466647,
          null,
          -0.15135999384159893,
          -0.2661235827404253,
          null,
          0.2085570107654309,
          0.014242984094038813,
          null,
          0.2085570107654309,
          0.04414577456244162,
          null,
          0.2085570107654309,
          0.13891134666256164,
          null,
          0.2085570107654309,
          0.03294195461904745,
          null,
          0.2085570107654309,
          0.1206259278570361,
          null,
          0.2085570107654309,
          -0.08116425441412772,
          null,
          0.2085570107654309,
          -0.0565874433628359,
          null,
          0.2085570107654309,
          -0.08256827375373853,
          null,
          0.2085570107654309,
          1,
          null,
          0.014242984094038813,
          0.04414577456244162,
          null,
          0.014242984094038813,
          0.13891134666256164,
          null,
          0.014242984094038813,
          0.03294195461904745,
          null,
          0.014242984094038813,
          0.1206259278570361,
          null,
          0.014242984094038813,
          -0.08116425441412772,
          null,
          0.014242984094038813,
          -0.0565874433628359,
          null,
          0.014242984094038813,
          -0.08256827375373853,
          null,
          0.014242984094038813,
          0.25231741897888216,
          null,
          0.014242984094038813,
          -0.24014291806681476,
          null,
          0.014242984094038813,
          0.100458777711372,
          null,
          0.014242984094038813,
          -0.11750223222983176,
          null,
          0.014242984094038813,
          0.016204156035702875,
          null,
          0.014242984094038813,
          0.16067353632855622,
          null,
          0.014242984094038813,
          -0.12098812733315055,
          null,
          0.04414577456244162,
          0.13891134666256164,
          null,
          0.04414577456244162,
          0.03294195461904745,
          null,
          0.04414577456244162,
          0.1206259278570361,
          null,
          0.04414577456244162,
          -0.08116425441412772,
          null,
          0.04414577456244162,
          -0.0565874433628359,
          null,
          0.04414577456244162,
          -0.08256827375373853,
          null,
          0.13891134666256164,
          0.03294195461904745,
          null,
          0.13891134666256164,
          0.1206259278570361,
          null,
          0.13891134666256164,
          -0.08116425441412772,
          null,
          0.13891134666256164,
          -0.0565874433628359,
          null,
          0.13891134666256164,
          -0.08256827375373853,
          null,
          0.13891134666256164,
          0.6519870518510936,
          null,
          0.03294195461904745,
          0.1206259278570361,
          null,
          0.03294195461904745,
          -0.08116425441412772,
          null,
          0.03294195461904745,
          -0.0565874433628359,
          null,
          0.03294195461904745,
          -0.08256827375373853,
          null,
          0.1206259278570361,
          -0.08116425441412772,
          null,
          0.1206259278570361,
          -0.0565874433628359,
          null,
          0.1206259278570361,
          -0.08256827375373853,
          null,
          -0.08116425441412772,
          -0.0565874433628359,
          null,
          -0.08116425441412772,
          -0.08256827375373853,
          null,
          -0.0565874433628359,
          -0.08256827375373853,
          null,
          -0.08256827375373853,
          -0.5977747819191369,
          null,
          -0.08256827375373853,
          -0.4331997105578347,
          null,
          -0.08256827375373853,
          -0.5936546212466647,
          null,
          -0.08256827375373853,
          -0.2661235827404253,
          null,
          0.25231741897888216,
          -0.24014291806681476,
          null,
          0.25231741897888216,
          0.100458777711372,
          null,
          0.25231741897888216,
          -0.11750223222983176,
          null,
          0.25231741897888216,
          0.016204156035702875,
          null,
          0.25231741897888216,
          0.16067353632855622,
          null,
          0.25231741897888216,
          -0.12098812733315055,
          null,
          -0.24014291806681476,
          0.100458777711372,
          null,
          -0.24014291806681476,
          -0.11750223222983176,
          null,
          -0.24014291806681476,
          0.016204156035702875,
          null,
          -0.24014291806681476,
          0.16067353632855622,
          null,
          -0.24014291806681476,
          -0.12098812733315055,
          null,
          0.100458777711372,
          -0.11750223222983176,
          null,
          0.100458777711372,
          0.016204156035702875,
          null,
          0.100458777711372,
          0.16067353632855622,
          null,
          0.100458777711372,
          -0.12098812733315055,
          null,
          -0.11750223222983176,
          0.016204156035702875,
          null,
          -0.11750223222983176,
          0.16067353632855622,
          null,
          -0.11750223222983176,
          -0.12098812733315055,
          null,
          0.016204156035702875,
          0.16067353632855622,
          null,
          0.016204156035702875,
          -0.12098812733315055,
          null,
          0.16067353632855622,
          -0.12098812733315055,
          null,
          -0.5977747819191369,
          -0.4331997105578347,
          null,
          -0.5977747819191369,
          -0.5936546212466647,
          null,
          -0.5977747819191369,
          -0.2661235827404253,
          null,
          -0.4331997105578347,
          -0.5936546212466647,
          null,
          -0.4331997105578347,
          -0.2661235827404253,
          null,
          -0.5936546212466647,
          -0.2661235827404253,
          null
         ]
        },
        {
         "hoverinfo": "text",
         "marker": {
          "color": [
           13,
           10,
           16,
           9,
           10,
           9,
           9,
           9,
           9,
           13,
           7,
           7,
           7,
           7,
           7,
           7,
           7,
           1,
           1,
           5,
           5,
           5,
           5
          ],
          "colorbar": {
           "thickness": 15,
           "title": {
            "side": "right",
            "text": "Node Connections"
           },
           "xanchor": "left"
          },
          "colorscale": [
           [
            0,
            "rgb(255,255,217)"
           ],
           [
            0.125,
            "rgb(237,248,177)"
           ],
           [
            0.25,
            "rgb(199,233,180)"
           ],
           [
            0.375,
            "rgb(127,205,187)"
           ],
           [
            0.5,
            "rgb(65,182,196)"
           ],
           [
            0.625,
            "rgb(29,145,192)"
           ],
           [
            0.75,
            "rgb(34,94,168)"
           ],
           [
            0.875,
            "rgb(37,52,148)"
           ],
           [
            1,
            "rgb(8,29,88)"
           ]
          ],
          "line": {
           "width": 2
          },
          "reversescale": true,
          "showscale": true,
          "size": 10
         },
         "mode": "markers",
         "text": [
          "JEREMY IRVIN<br>Distance to origin : 1<br># connections: 13<br># papers connections: 41 (approx)<br>Co-Authors:<br> Andrew Y. Ng : 5<br> Hao Sheng : 4<br> Neel Ramachandran : 4<br> Sonja Johnson-Yu : 4<br> Sharon Zhou : 4<br> Kyle Story : 4<br> Rose Rustowicz : 4<br> Cooper Elsworth : 4<br> Kemen Austin : 4<br> Pranav Rajpurkar : 1<br> Anirudh Joshi : 1<br> Anuj Pareek : 1<br> Matthew Lungren : 1",
          "HAO SHENG<br>Distance to origin : 1<br># connections: 10<br># papers connections: 37 (approx)<br>Co-Authors:<br> Jeremy Irvin : 4<br> Neel Ramachandran : 4<br> Sonja Johnson-Yu : 4<br> Sharon Zhou : 4<br> Kyle Story : 4<br> Rose Rustowicz : 4<br> Cooper Elsworth : 4<br> Kemen Austin : 4<br> Andrew Y. Ng : 4<br> Xiaozhe Wang : 1",
          "NEEL RAMACHANDRAN<br>Distance to origin : 1<br># connections: 16<br># papers connections: 43 (approx)<br>Co-Authors:<br> Jeremy Irvin : 4<br> Hao Sheng : 4<br> Sonja Johnson-Yu : 4<br> Sharon Zhou : 4<br> Kyle Story : 4<br> Rose Rustowicz : 4<br> Cooper Elsworth : 4<br> Kemen Austin : 4<br> Andrew Y. Ng : 4<br> Elisa Toloba : 1<br> Puragra Guhathakurta : 1<br> Aaron Romanowsky : 1<br> Jean Brodie : 1<br> David Martinez-Delgado : 1<br> Jacob Arnold : 1<br> Kuriakose Theakanath : 1",
          "SONJA JOHNSON-YU<br>Distance to origin : 0<br># connections: 9<br># papers connections: 36 (approx)<br>Co-Authors:<br> Jeremy Irvin : 4<br> Hao Sheng : 4<br> Neel Ramachandran : 4<br> Sharon Zhou : 4<br> Kyle Story : 4<br> Rose Rustowicz : 4<br> Cooper Elsworth : 4<br> Kemen Austin : 4<br> Andrew Y. Ng : 4",
          "SHARON ZHOU<br>Distance to origin : 1<br># connections: 10<br># papers connections: 37 (approx)<br>Co-Authors:<br> Jeremy Irvin : 4<br> Hao Sheng : 4<br> Neel Ramachandran : 4<br> Sonja Johnson-Yu : 4<br> Kyle Story : 4<br> Rose Rustowicz : 4<br> Cooper Elsworth : 4<br> Kemen Austin : 4<br> Andrew Y. Ng : 4<br> Catherine Cossaboom : 1",
          "KYLE STORY<br>Distance to origin : 1<br># connections: 9<br># papers connections: 36 (approx)<br>Co-Authors:<br> Jeremy Irvin : 4<br> Hao Sheng : 4<br> Neel Ramachandran : 4<br> Sonja Johnson-Yu : 4<br> Sharon Zhou : 4<br> Rose Rustowicz : 4<br> Cooper Elsworth : 4<br> Kemen Austin : 4<br> Andrew Y. Ng : 4",
          "ROSE RUSTOWICZ<br>Distance to origin : 1<br># connections: 9<br># papers connections: 36 (approx)<br>Co-Authors:<br> Jeremy Irvin : 4<br> Hao Sheng : 4<br> Neel Ramachandran : 4<br> Sonja Johnson-Yu : 4<br> Sharon Zhou : 4<br> Kyle Story : 4<br> Cooper Elsworth : 4<br> Kemen Austin : 4<br> Andrew Y. Ng : 4",
          "COOPER ELSWORTH<br>Distance to origin : 1<br># connections: 9<br># papers connections: 36 (approx)<br>Co-Authors:<br> Jeremy Irvin : 4<br> Hao Sheng : 4<br> Neel Ramachandran : 4<br> Sonja Johnson-Yu : 4<br> Sharon Zhou : 4<br> Kyle Story : 4<br> Rose Rustowicz : 4<br> Kemen Austin : 4<br> Andrew Y. Ng : 4",
          "KEMEN AUSTIN<br>Distance to origin : 1<br># connections: 9<br># papers connections: 36 (approx)<br>Co-Authors:<br> Jeremy Irvin : 4<br> Hao Sheng : 4<br> Neel Ramachandran : 4<br> Sonja Johnson-Yu : 4<br> Sharon Zhou : 4<br> Kyle Story : 4<br> Rose Rustowicz : 4<br> Cooper Elsworth : 4<br> Andrew Y. Ng : 4",
          "ANDREW Y. NG<br>Distance to origin : 1<br># connections: 13<br># papers connections: 41 (approx)<br>Co-Authors:<br> Jeremy Irvin : 5<br> Hao Sheng : 4<br> Neel Ramachandran : 4<br> Sonja Johnson-Yu : 4<br> Sharon Zhou : 4<br> Kyle Story : 4<br> Rose Rustowicz : 4<br> Cooper Elsworth : 4<br> Kemen Austin : 4<br> Pranav Rajpurkar : 1<br> Anirudh Joshi : 1<br> Anuj Pareek : 1<br> Matthew Lungren : 1",
          "ELISA TOLOBA<br>Distance to origin : 2<br># connections: 7<br># papers connections: 7 (approx)<br>Co-Authors:<br> Puragra Guhathakurta : 1<br> Aaron Romanowsky : 1<br> Jean Brodie : 1<br> David Martinez-Delgado : 1<br> Jacob Arnold : 1<br> Neel Ramachandran : 1<br> Kuriakose Theakanath : 1",
          "PURAGRA GUHATHAKURTA<br>Distance to origin : 2<br># connections: 7<br># papers connections: 7 (approx)<br>Co-Authors:<br> Elisa Toloba : 1<br> Aaron Romanowsky : 1<br> Jean Brodie : 1<br> David Martinez-Delgado : 1<br> Jacob Arnold : 1<br> Neel Ramachandran : 1<br> Kuriakose Theakanath : 1",
          "AARON ROMANOWSKY<br>Distance to origin : 2<br># connections: 7<br># papers connections: 7 (approx)<br>Co-Authors:<br> Elisa Toloba : 1<br> Puragra Guhathakurta : 1<br> Jean Brodie : 1<br> David Martinez-Delgado : 1<br> Jacob Arnold : 1<br> Neel Ramachandran : 1<br> Kuriakose Theakanath : 1",
          "JEAN BRODIE<br>Distance to origin : 2<br># connections: 7<br># papers connections: 7 (approx)<br>Co-Authors:<br> Elisa Toloba : 1<br> Puragra Guhathakurta : 1<br> Aaron Romanowsky : 1<br> David Martinez-Delgado : 1<br> Jacob Arnold : 1<br> Neel Ramachandran : 1<br> Kuriakose Theakanath : 1",
          "DAVID MARTINEZ-DELGADO<br>Distance to origin : 2<br># connections: 7<br># papers connections: 7 (approx)<br>Co-Authors:<br> Elisa Toloba : 1<br> Puragra Guhathakurta : 1<br> Aaron Romanowsky : 1<br> Jean Brodie : 1<br> Jacob Arnold : 1<br> Neel Ramachandran : 1<br> Kuriakose Theakanath : 1",
          "JACOB ARNOLD<br>Distance to origin : 2<br># connections: 7<br># papers connections: 7 (approx)<br>Co-Authors:<br> Elisa Toloba : 1<br> Puragra Guhathakurta : 1<br> Aaron Romanowsky : 1<br> Jean Brodie : 1<br> David Martinez-Delgado : 1<br> Neel Ramachandran : 1<br> Kuriakose Theakanath : 1",
          "KURIAKOSE THEAKANATH<br>Distance to origin : 2<br># connections: 7<br># papers connections: 7 (approx)<br>Co-Authors:<br> Elisa Toloba : 1<br> Puragra Guhathakurta : 1<br> Aaron Romanowsky : 1<br> Jean Brodie : 1<br> David Martinez-Delgado : 1<br> Jacob Arnold : 1<br> Neel Ramachandran : 1",
          "CATHERINE COSSABOOM<br>Distance to origin : 2<br># connections: 1<br># papers connections: 1 (approx)<br>Co-Authors:<br> Sharon Zhou : 1",
          "XIAOZHE WANG<br>Distance to origin : 2<br># connections: 1<br># papers connections: 1 (approx)<br>Co-Authors:<br> Hao Sheng : 1",
          "PRANAV RAJPURKAR<br>Distance to origin : 2<br># connections: 5<br># papers connections: 5 (approx)<br>Co-Authors:<br> Anirudh Joshi : 1<br> Anuj Pareek : 1<br> Jeremy Irvin : 1<br> Andrew Y. Ng : 1<br> Matthew Lungren : 1",
          "ANIRUDH JOSHI<br>Distance to origin : 2<br># connections: 5<br># papers connections: 5 (approx)<br>Co-Authors:<br> Pranav Rajpurkar : 1<br> Anuj Pareek : 1<br> Jeremy Irvin : 1<br> Andrew Y. Ng : 1<br> Matthew Lungren : 1",
          "ANUJ PAREEK<br>Distance to origin : 2<br># connections: 5<br># papers connections: 5 (approx)<br>Co-Authors:<br> Pranav Rajpurkar : 1<br> Anirudh Joshi : 1<br> Jeremy Irvin : 1<br> Andrew Y. Ng : 1<br> Matthew Lungren : 1",
          "MATTHEW LUNGREN<br>Distance to origin : 2<br># connections: 5<br># papers connections: 5 (approx)<br>Co-Authors:<br> Pranav Rajpurkar : 1<br> Anirudh Joshi : 1<br> Anuj Pareek : 1<br> Jeremy Irvin : 1<br> Andrew Y. Ng : 1"
         ],
         "type": "scatter",
         "x": [
          0.2819945942280787,
          0.1795687834630285,
          -0.1407881223350949,
          0.23090781217075806,
          0.2944071855667062,
          0.07733563750287395,
          0.10966551104203226,
          0.07296923717951274,
          0.16685129945794494,
          0.3420274615353529,
          -0.8112841587333355,
          -0.834336765451512,
          -0.7006564249624629,
          -0.7111821969823124,
          -0.8903437190405343,
          -0.978523568562486,
          -0.9921998167210192,
          0.9212810101660663,
          0.3332091820506577,
          0.5848779425798681,
          0.8450624443355896,
          0.7602245467438046,
          0.8589321247664844
         ],
         "y": [
          -0.15135999384159893,
          0.2085570107654309,
          0.014242984094038813,
          0.04414577456244162,
          0.13891134666256164,
          0.03294195461904745,
          0.1206259278570361,
          -0.08116425441412772,
          -0.0565874433628359,
          -0.08256827375373853,
          0.25231741897888216,
          -0.24014291806681476,
          0.100458777711372,
          -0.11750223222983176,
          0.016204156035702875,
          0.16067353632855622,
          -0.12098812733315055,
          0.6519870518510936,
          1,
          -0.5977747819191369,
          -0.4331997105578347,
          -0.5936546212466647,
          -0.2661235827404253
         ]
        },
        {
         "hoverinfo": "text",
         "marker": {
          "color": [
           "Red"
          ],
          "line": {
           "width": 2
          },
          "size": 9
         },
         "mode": "markers+text",
         "type": "scatter",
         "x": [
          0.23090781217075806
         ],
         "y": [
          0.04414577456244162
         ]
        }
       ],
       "layout": {
        "hovermode": "closest",
        "margin": {
         "b": 20,
         "l": 5,
         "r": 5,
         "t": 40
        },
        "showlegend": true,
        "template": {
         "data": {
          "bar": [
           {
            "error_x": {
             "color": "#2a3f5f"
            },
            "error_y": {
             "color": "#2a3f5f"
            },
            "marker": {
             "line": {
              "color": "#E5ECF6",
              "width": 0.5
             },
             "pattern": {
              "fillmode": "overlay",
              "size": 10,
              "solidity": 0.2
             }
            },
            "type": "bar"
           }
          ],
          "barpolar": [
           {
            "marker": {
             "line": {
              "color": "#E5ECF6",
              "width": 0.5
             },
             "pattern": {
              "fillmode": "overlay",
              "size": 10,
              "solidity": 0.2
             }
            },
            "type": "barpolar"
           }
          ],
          "carpet": [
           {
            "aaxis": {
             "endlinecolor": "#2a3f5f",
             "gridcolor": "white",
             "linecolor": "white",
             "minorgridcolor": "white",
             "startlinecolor": "#2a3f5f"
            },
            "baxis": {
             "endlinecolor": "#2a3f5f",
             "gridcolor": "white",
             "linecolor": "white",
             "minorgridcolor": "white",
             "startlinecolor": "#2a3f5f"
            },
            "type": "carpet"
           }
          ],
          "choropleth": [
           {
            "colorbar": {
             "outlinewidth": 0,
             "ticks": ""
            },
            "type": "choropleth"
           }
          ],
          "contour": [
           {
            "colorbar": {
             "outlinewidth": 0,
             "ticks": ""
            },
            "colorscale": [
             [
              0,
              "#0d0887"
             ],
             [
              0.1111111111111111,
              "#46039f"
             ],
             [
              0.2222222222222222,
              "#7201a8"
             ],
             [
              0.3333333333333333,
              "#9c179e"
             ],
             [
              0.4444444444444444,
              "#bd3786"
             ],
             [
              0.5555555555555556,
              "#d8576b"
             ],
             [
              0.6666666666666666,
              "#ed7953"
             ],
             [
              0.7777777777777778,
              "#fb9f3a"
             ],
             [
              0.8888888888888888,
              "#fdca26"
             ],
             [
              1,
              "#f0f921"
             ]
            ],
            "type": "contour"
           }
          ],
          "contourcarpet": [
           {
            "colorbar": {
             "outlinewidth": 0,
             "ticks": ""
            },
            "type": "contourcarpet"
           }
          ],
          "heatmap": [
           {
            "colorbar": {
             "outlinewidth": 0,
             "ticks": ""
            },
            "colorscale": [
             [
              0,
              "#0d0887"
             ],
             [
              0.1111111111111111,
              "#46039f"
             ],
             [
              0.2222222222222222,
              "#7201a8"
             ],
             [
              0.3333333333333333,
              "#9c179e"
             ],
             [
              0.4444444444444444,
              "#bd3786"
             ],
             [
              0.5555555555555556,
              "#d8576b"
             ],
             [
              0.6666666666666666,
              "#ed7953"
             ],
             [
              0.7777777777777778,
              "#fb9f3a"
             ],
             [
              0.8888888888888888,
              "#fdca26"
             ],
             [
              1,
              "#f0f921"
             ]
            ],
            "type": "heatmap"
           }
          ],
          "heatmapgl": [
           {
            "colorbar": {
             "outlinewidth": 0,
             "ticks": ""
            },
            "colorscale": [
             [
              0,
              "#0d0887"
             ],
             [
              0.1111111111111111,
              "#46039f"
             ],
             [
              0.2222222222222222,
              "#7201a8"
             ],
             [
              0.3333333333333333,
              "#9c179e"
             ],
             [
              0.4444444444444444,
              "#bd3786"
             ],
             [
              0.5555555555555556,
              "#d8576b"
             ],
             [
              0.6666666666666666,
              "#ed7953"
             ],
             [
              0.7777777777777778,
              "#fb9f3a"
             ],
             [
              0.8888888888888888,
              "#fdca26"
             ],
             [
              1,
              "#f0f921"
             ]
            ],
            "type": "heatmapgl"
           }
          ],
          "histogram": [
           {
            "marker": {
             "pattern": {
              "fillmode": "overlay",
              "size": 10,
              "solidity": 0.2
             }
            },
            "type": "histogram"
           }
          ],
          "histogram2d": [
           {
            "colorbar": {
             "outlinewidth": 0,
             "ticks": ""
            },
            "colorscale": [
             [
              0,
              "#0d0887"
             ],
             [
              0.1111111111111111,
              "#46039f"
             ],
             [
              0.2222222222222222,
              "#7201a8"
             ],
             [
              0.3333333333333333,
              "#9c179e"
             ],
             [
              0.4444444444444444,
              "#bd3786"
             ],
             [
              0.5555555555555556,
              "#d8576b"
             ],
             [
              0.6666666666666666,
              "#ed7953"
             ],
             [
              0.7777777777777778,
              "#fb9f3a"
             ],
             [
              0.8888888888888888,
              "#fdca26"
             ],
             [
              1,
              "#f0f921"
             ]
            ],
            "type": "histogram2d"
           }
          ],
          "histogram2dcontour": [
           {
            "colorbar": {
             "outlinewidth": 0,
             "ticks": ""
            },
            "colorscale": [
             [
              0,
              "#0d0887"
             ],
             [
              0.1111111111111111,
              "#46039f"
             ],
             [
              0.2222222222222222,
              "#7201a8"
             ],
             [
              0.3333333333333333,
              "#9c179e"
             ],
             [
              0.4444444444444444,
              "#bd3786"
             ],
             [
              0.5555555555555556,
              "#d8576b"
             ],
             [
              0.6666666666666666,
              "#ed7953"
             ],
             [
              0.7777777777777778,
              "#fb9f3a"
             ],
             [
              0.8888888888888888,
              "#fdca26"
             ],
             [
              1,
              "#f0f921"
             ]
            ],
            "type": "histogram2dcontour"
           }
          ],
          "mesh3d": [
           {
            "colorbar": {
             "outlinewidth": 0,
             "ticks": ""
            },
            "type": "mesh3d"
           }
          ],
          "parcoords": [
           {
            "line": {
             "colorbar": {
              "outlinewidth": 0,
              "ticks": ""
             }
            },
            "type": "parcoords"
           }
          ],
          "pie": [
           {
            "automargin": true,
            "type": "pie"
           }
          ],
          "scatter": [
           {
            "fillpattern": {
             "fillmode": "overlay",
             "size": 10,
             "solidity": 0.2
            },
            "type": "scatter"
           }
          ],
          "scatter3d": [
           {
            "line": {
             "colorbar": {
              "outlinewidth": 0,
              "ticks": ""
             }
            },
            "marker": {
             "colorbar": {
              "outlinewidth": 0,
              "ticks": ""
             }
            },
            "type": "scatter3d"
           }
          ],
          "scattercarpet": [
           {
            "marker": {
             "colorbar": {
              "outlinewidth": 0,
              "ticks": ""
             }
            },
            "type": "scattercarpet"
           }
          ],
          "scattergeo": [
           {
            "marker": {
             "colorbar": {
              "outlinewidth": 0,
              "ticks": ""
             }
            },
            "type": "scattergeo"
           }
          ],
          "scattergl": [
           {
            "marker": {
             "colorbar": {
              "outlinewidth": 0,
              "ticks": ""
             }
            },
            "type": "scattergl"
           }
          ],
          "scattermapbox": [
           {
            "marker": {
             "colorbar": {
              "outlinewidth": 0,
              "ticks": ""
             }
            },
            "type": "scattermapbox"
           }
          ],
          "scatterpolar": [
           {
            "marker": {
             "colorbar": {
              "outlinewidth": 0,
              "ticks": ""
             }
            },
            "type": "scatterpolar"
           }
          ],
          "scatterpolargl": [
           {
            "marker": {
             "colorbar": {
              "outlinewidth": 0,
              "ticks": ""
             }
            },
            "type": "scatterpolargl"
           }
          ],
          "scatterternary": [
           {
            "marker": {
             "colorbar": {
              "outlinewidth": 0,
              "ticks": ""
             }
            },
            "type": "scatterternary"
           }
          ],
          "surface": [
           {
            "colorbar": {
             "outlinewidth": 0,
             "ticks": ""
            },
            "colorscale": [
             [
              0,
              "#0d0887"
             ],
             [
              0.1111111111111111,
              "#46039f"
             ],
             [
              0.2222222222222222,
              "#7201a8"
             ],
             [
              0.3333333333333333,
              "#9c179e"
             ],
             [
              0.4444444444444444,
              "#bd3786"
             ],
             [
              0.5555555555555556,
              "#d8576b"
             ],
             [
              0.6666666666666666,
              "#ed7953"
             ],
             [
              0.7777777777777778,
              "#fb9f3a"
             ],
             [
              0.8888888888888888,
              "#fdca26"
             ],
             [
              1,
              "#f0f921"
             ]
            ],
            "type": "surface"
           }
          ],
          "table": [
           {
            "cells": {
             "fill": {
              "color": "#EBF0F8"
             },
             "line": {
              "color": "white"
             }
            },
            "header": {
             "fill": {
              "color": "#C8D4E3"
             },
             "line": {
              "color": "white"
             }
            },
            "type": "table"
           }
          ]
         },
         "layout": {
          "annotationdefaults": {
           "arrowcolor": "#2a3f5f",
           "arrowhead": 0,
           "arrowwidth": 1
          },
          "autotypenumbers": "strict",
          "coloraxis": {
           "colorbar": {
            "outlinewidth": 0,
            "ticks": ""
           }
          },
          "colorscale": {
           "diverging": [
            [
             0,
             "#8e0152"
            ],
            [
             0.1,
             "#c51b7d"
            ],
            [
             0.2,
             "#de77ae"
            ],
            [
             0.3,
             "#f1b6da"
            ],
            [
             0.4,
             "#fde0ef"
            ],
            [
             0.5,
             "#f7f7f7"
            ],
            [
             0.6,
             "#e6f5d0"
            ],
            [
             0.7,
             "#b8e186"
            ],
            [
             0.8,
             "#7fbc41"
            ],
            [
             0.9,
             "#4d9221"
            ],
            [
             1,
             "#276419"
            ]
           ],
           "sequential": [
            [
             0,
             "#0d0887"
            ],
            [
             0.1111111111111111,
             "#46039f"
            ],
            [
             0.2222222222222222,
             "#7201a8"
            ],
            [
             0.3333333333333333,
             "#9c179e"
            ],
            [
             0.4444444444444444,
             "#bd3786"
            ],
            [
             0.5555555555555556,
             "#d8576b"
            ],
            [
             0.6666666666666666,
             "#ed7953"
            ],
            [
             0.7777777777777778,
             "#fb9f3a"
            ],
            [
             0.8888888888888888,
             "#fdca26"
            ],
            [
             1,
             "#f0f921"
            ]
           ],
           "sequentialminus": [
            [
             0,
             "#0d0887"
            ],
            [
             0.1111111111111111,
             "#46039f"
            ],
            [
             0.2222222222222222,
             "#7201a8"
            ],
            [
             0.3333333333333333,
             "#9c179e"
            ],
            [
             0.4444444444444444,
             "#bd3786"
            ],
            [
             0.5555555555555556,
             "#d8576b"
            ],
            [
             0.6666666666666666,
             "#ed7953"
            ],
            [
             0.7777777777777778,
             "#fb9f3a"
            ],
            [
             0.8888888888888888,
             "#fdca26"
            ],
            [
             1,
             "#f0f921"
            ]
           ]
          },
          "colorway": [
           "#636efa",
           "#EF553B",
           "#00cc96",
           "#ab63fa",
           "#FFA15A",
           "#19d3f3",
           "#FF6692",
           "#B6E880",
           "#FF97FF",
           "#FECB52"
          ],
          "font": {
           "color": "#2a3f5f"
          },
          "geo": {
           "bgcolor": "white",
           "lakecolor": "white",
           "landcolor": "#E5ECF6",
           "showlakes": true,
           "showland": true,
           "subunitcolor": "white"
          },
          "hoverlabel": {
           "align": "left"
          },
          "hovermode": "closest",
          "mapbox": {
           "style": "light"
          },
          "paper_bgcolor": "white",
          "plot_bgcolor": "#E5ECF6",
          "polar": {
           "angularaxis": {
            "gridcolor": "white",
            "linecolor": "white",
            "ticks": ""
           },
           "bgcolor": "#E5ECF6",
           "radialaxis": {
            "gridcolor": "white",
            "linecolor": "white",
            "ticks": ""
           }
          },
          "scene": {
           "xaxis": {
            "backgroundcolor": "#E5ECF6",
            "gridcolor": "white",
            "gridwidth": 2,
            "linecolor": "white",
            "showbackground": true,
            "ticks": "",
            "zerolinecolor": "white"
           },
           "yaxis": {
            "backgroundcolor": "#E5ECF6",
            "gridcolor": "white",
            "gridwidth": 2,
            "linecolor": "white",
            "showbackground": true,
            "ticks": "",
            "zerolinecolor": "white"
           },
           "zaxis": {
            "backgroundcolor": "#E5ECF6",
            "gridcolor": "white",
            "gridwidth": 2,
            "linecolor": "white",
            "showbackground": true,
            "ticks": "",
            "zerolinecolor": "white"
           }
          },
          "shapedefaults": {
           "line": {
            "color": "#2a3f5f"
           }
          },
          "ternary": {
           "aaxis": {
            "gridcolor": "white",
            "linecolor": "white",
            "ticks": ""
           },
           "baxis": {
            "gridcolor": "white",
            "linecolor": "white",
            "ticks": ""
           },
           "bgcolor": "#E5ECF6",
           "caxis": {
            "gridcolor": "white",
            "linecolor": "white",
            "ticks": ""
           }
          },
          "title": {
           "x": 0.05
          },
          "xaxis": {
           "automargin": true,
           "gridcolor": "white",
           "linecolor": "white",
           "ticks": "",
           "title": {
            "standoff": 15
           },
           "zerolinecolor": "white",
           "zerolinewidth": 2
          },
          "yaxis": {
           "automargin": true,
           "gridcolor": "white",
           "linecolor": "white",
           "ticks": "",
           "title": {
            "standoff": 15
           },
           "zerolinecolor": "white",
           "zerolinewidth": 2
          }
         }
        },
        "title": {
         "font": {
          "size": 16
         },
         "text": "Arxiv co-author exploration<br>[Click and drag to form a box to zoom. Double-click to zoom out]"
        },
        "xaxis": {
         "showgrid": false,
         "showticklabels": false,
         "zeroline": false
        },
        "yaxis": {
         "showgrid": false,
         "showticklabels": false,
         "zeroline": false
        }
       }
      }
     },
     "metadata": {},
     "output_type": "display_data"
    }
   ],
   "source": [
    "# plot_weighted_graph(G)\n",
    "graphing.graph(G, original_author)"
   ]
  },
  {
   "cell_type": "code",
   "execution_count": null,
   "metadata": {},
   "outputs": [],
   "source": [
    "import arxiv\n",
    "auth = \"Sonja Johnson_Yu\"\n",
    "author  =auth\n",
    "splits = auth.split(\" \")\n",
    "auth = splits[1] + \"_\" + splits[0]\n",
    "# #auth = auth.replace(\" \", \"_\")\n",
    "res = list(arxiv.Search(query = f\"au:{auth}\", max_results=10).results())\n",
    "for pap in res:\n",
    "    print(pap.title)\n",
    "    print(pap.authors)\n",
    "    for pap_auth in pap.authors:\n",
    "        if auth == str(pap_auth):\n",
    "            print(\"match\")\n",
    "            print(pap.title)\n",
    "            print(pap.authors)\n",
    "df = arxiv_util.search(author=author, max_search_results=10)"
   ]
  }
 ],
 "metadata": {
  "kernelspec": {
   "display_name": "Python 3",
   "language": "python",
   "name": "python3"
  },
  "language_info": {
   "codemirror_mode": {
    "name": "ipython",
    "version": 3
   },
   "file_extension": ".py",
   "mimetype": "text/x-python",
   "name": "python",
   "nbconvert_exporter": "python",
   "pygments_lexer": "ipython3",
   "version": "3.9.18"
  }
 },
 "nbformat": 4,
 "nbformat_minor": 4
}
