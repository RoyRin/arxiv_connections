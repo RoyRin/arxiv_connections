{
 "cells": [
  {
   "cell_type": "code",
   "execution_count": 1,
   "metadata": {},
   "outputs": [
    {
     "data": {
      "application/javascript": [
       "\n",
       "            setTimeout(function() {\n",
       "                var nbb_cell_id = 1;\n",
       "                var nbb_unformatted_code = \"%load_ext nb_black\";\n",
       "                var nbb_formatted_code = \"%load_ext nb_black\";\n",
       "                var nbb_cells = Jupyter.notebook.get_cells();\n",
       "                for (var i = 0; i < nbb_cells.length; ++i) {\n",
       "                    if (nbb_cells[i].input_prompt_number == nbb_cell_id) {\n",
       "                        if (nbb_cells[i].get_text() == nbb_unformatted_code) {\n",
       "                             nbb_cells[i].set_text(nbb_formatted_code);\n",
       "                        }\n",
       "                        break;\n",
       "                    }\n",
       "                }\n",
       "            }, 500);\n",
       "            "
      ],
      "text/plain": [
       "<IPython.core.display.Javascript object>"
      ]
     },
     "metadata": {},
     "output_type": "display_data"
    }
   ],
   "source": [
    "%load_ext nb_black"
   ]
  },
  {
   "cell_type": "code",
   "execution_count": 2,
   "metadata": {},
   "outputs": [
    {
     "data": {
      "application/javascript": [
       "\n",
       "            setTimeout(function() {\n",
       "                var nbb_cell_id = 2;\n",
       "                var nbb_unformatted_code = \"import click\\nimport logging\\nimport pandas as pd\\nimport os\\nimport ast\\n\\n# Local files\\nimport graphing\\nimport arxiv_util\\n\\n# Development:\\nfrom importlib import reload\";\n",
       "                var nbb_formatted_code = \"import click\\nimport logging\\nimport pandas as pd\\nimport os\\nimport ast\\n\\n# Local files\\nimport graphing\\nimport arxiv_util\\n\\n# Development:\\nfrom importlib import reload\";\n",
       "                var nbb_cells = Jupyter.notebook.get_cells();\n",
       "                for (var i = 0; i < nbb_cells.length; ++i) {\n",
       "                    if (nbb_cells[i].input_prompt_number == nbb_cell_id) {\n",
       "                        if (nbb_cells[i].get_text() == nbb_unformatted_code) {\n",
       "                             nbb_cells[i].set_text(nbb_formatted_code);\n",
       "                        }\n",
       "                        break;\n",
       "                    }\n",
       "                }\n",
       "            }, 500);\n",
       "            "
      ],
      "text/plain": [
       "<IPython.core.display.Javascript object>"
      ]
     },
     "metadata": {},
     "output_type": "display_data"
    }
   ],
   "source": [
    "import click\n",
    "import logging\n",
    "import pandas as pd\n",
    "import os\n",
    "import ast\n",
    "\n",
    "# Local files\n",
    "import graphing\n",
    "import arxiv_util\n",
    "\n",
    "# Development:\n",
    "from importlib import reload"
   ]
  },
  {
   "cell_type": "code",
   "execution_count": 9,
   "metadata": {},
   "outputs": [
    {
     "data": {
      "application/javascript": [
       "\n",
       "            setTimeout(function() {\n",
       "                var nbb_cell_id = 9;\n",
       "                var nbb_unformatted_code = \"# Original Author you want to investigate\\noriginal_author = \\\"Dmitry Rinberg\\\"\\n\\n# If you have an existing articles file, point csv_path to it\\nparent_dir = os.path.dirname(os.getcwd())\\ncsv_path = os.path.join(parent_dir, \\\"example_data/dmitry_rinberg.csv\\\")\";\n",
       "                var nbb_formatted_code = \"# Original Author you want to investigate\\noriginal_author = \\\"Dmitry Rinberg\\\"\\n\\n# If you have an existing articles file, point csv_path to it\\nparent_dir = os.path.dirname(os.getcwd())\\ncsv_path = os.path.join(parent_dir, \\\"example_data/dmitry_rinberg.csv\\\")\";\n",
       "                var nbb_cells = Jupyter.notebook.get_cells();\n",
       "                for (var i = 0; i < nbb_cells.length; ++i) {\n",
       "                    if (nbb_cells[i].input_prompt_number == nbb_cell_id) {\n",
       "                        if (nbb_cells[i].get_text() == nbb_unformatted_code) {\n",
       "                             nbb_cells[i].set_text(nbb_formatted_code);\n",
       "                        }\n",
       "                        break;\n",
       "                    }\n",
       "                }\n",
       "            }, 500);\n",
       "            "
      ],
      "text/plain": [
       "<IPython.core.display.Javascript object>"
      ]
     },
     "metadata": {},
     "output_type": "display_data"
    }
   ],
   "source": [
    "# Original Author you want to investigate\n",
    "original_author = \"Dmitry Rinberg\"\n",
    "\n",
    "# If you have an existing articles file, point csv_path to it\n",
    "parent_dir = os.path.dirname(os.getcwd())\n",
    "csv_path = os.path.join(parent_dir, \"example_data/dmitry_rinberg.csv\")"
   ]
  },
  {
   "cell_type": "code",
   "execution_count": 10,
   "metadata": {},
   "outputs": [
    {
     "data": {
      "application/javascript": [
       "\n",
       "            setTimeout(function() {\n",
       "                var nbb_cell_id = 10;\n",
       "                var nbb_unformatted_code = \"# If you have a csv of articles already, upload those articles directly\\nif csv_path:\\n    articles = pd.read_csv(csv_path)\\n    articles[\\\"authors\\\"] = articles[\\\"authors\\\"].apply(\\n        lambda authors: ast.literal_eval(authors)\\n    )\\nelse:\\n    max_results_per_search = 3\\n    max_depth = 3\\n    articles = arxiv_traverser.BFS_author_query(\\n        original_author=original_author,\\n        max_search_results=max_results_per_search,\\n        max_depth=max_depth,\\n    )\\n    # If you wish to save the CSV, specify filepath to 'save_csv'\\n    save_csv = None\\n    if save_csv:\\n        articles.to_csv(save_csv)\\n\\n# articles.head()\";\n",
       "                var nbb_formatted_code = \"# If you have a csv of articles already, upload those articles directly\\nif csv_path:\\n    articles = pd.read_csv(csv_path)\\n    articles[\\\"authors\\\"] = articles[\\\"authors\\\"].apply(\\n        lambda authors: ast.literal_eval(authors)\\n    )\\nelse:\\n    max_results_per_search = 3\\n    max_depth = 3\\n    articles = arxiv_traverser.BFS_author_query(\\n        original_author=original_author,\\n        max_search_results=max_results_per_search,\\n        max_depth=max_depth,\\n    )\\n    # If you wish to save the CSV, specify filepath to 'save_csv'\\n    save_csv = None\\n    if save_csv:\\n        articles.to_csv(save_csv)\\n\\n# articles.head()\";\n",
       "                var nbb_cells = Jupyter.notebook.get_cells();\n",
       "                for (var i = 0; i < nbb_cells.length; ++i) {\n",
       "                    if (nbb_cells[i].input_prompt_number == nbb_cell_id) {\n",
       "                        if (nbb_cells[i].get_text() == nbb_unformatted_code) {\n",
       "                             nbb_cells[i].set_text(nbb_formatted_code);\n",
       "                        }\n",
       "                        break;\n",
       "                    }\n",
       "                }\n",
       "            }, 500);\n",
       "            "
      ],
      "text/plain": [
       "<IPython.core.display.Javascript object>"
      ]
     },
     "metadata": {},
     "output_type": "display_data"
    }
   ],
   "source": [
    "# If you have a csv of articles already, upload those articles directly\n",
    "if csv_path:\n",
    "    articles = pd.read_csv(csv_path)\n",
    "    articles[\"authors\"] = articles[\"authors\"].apply(\n",
    "        lambda authors: ast.literal_eval(authors)\n",
    "    )\n",
    "else:\n",
    "    max_results_per_search = 3\n",
    "    max_depth = 3\n",
    "    articles = arxiv_traverser.BFS_author_query(\n",
    "        original_author=original_author,\n",
    "        max_search_results=max_results_per_search,\n",
    "        max_depth=max_depth,\n",
    "    )\n",
    "    # If you wish to save the CSV, specify filepath to 'save_csv'\n",
    "    save_csv = None\n",
    "    if save_csv:\n",
    "        articles.to_csv(save_csv)\n",
    "\n",
    "# articles.head()"
   ]
  },
  {
   "cell_type": "code",
   "execution_count": 12,
   "metadata": {},
   "outputs": [
    {
     "ename": "AttributeError",
     "evalue": "module 'graphing' has no attribute 'generate_author_graph'",
     "output_type": "error",
     "traceback": [
      "\u001b[0;31m---------------------------------------------------------------------------\u001b[0m",
      "\u001b[0;31mAttributeError\u001b[0m                            Traceback (most recent call last)",
      "\u001b[0;32m<ipython-input-12-f3c11bb6d372>\u001b[0m in \u001b[0;36m<module>\u001b[0;34m\u001b[0m\n\u001b[1;32m      1\u001b[0m \u001b[0;31m# generate a graph of authors, where the weight is the number of papers shared\u001b[0m\u001b[0;34m\u001b[0m\u001b[0;34m\u001b[0m\u001b[0;34m\u001b[0m\u001b[0m\n\u001b[0;32m----> 2\u001b[0;31m \u001b[0mG\u001b[0m \u001b[0;34m=\u001b[0m \u001b[0mgraphing\u001b[0m\u001b[0;34m.\u001b[0m\u001b[0mgenerate_author_graph\u001b[0m\u001b[0;34m(\u001b[0m\u001b[0marticles\u001b[0m\u001b[0;34m)\u001b[0m\u001b[0;34m\u001b[0m\u001b[0;34m\u001b[0m\u001b[0m\n\u001b[0m",
      "\u001b[0;31mAttributeError\u001b[0m: module 'graphing' has no attribute 'generate_author_graph'"
     ]
    },
    {
     "data": {
      "application/javascript": [
       "\n",
       "            setTimeout(function() {\n",
       "                var nbb_cell_id = 12;\n",
       "                var nbb_unformatted_code = \"# generate a graph of authors, where the weight is the number of papers shared\\nG = graphing.generate_author_graph(articles)\";\n",
       "                var nbb_formatted_code = \"# generate a graph of authors, where the weight is the number of papers shared\\nG = graphing.generate_author_graph(articles)\";\n",
       "                var nbb_cells = Jupyter.notebook.get_cells();\n",
       "                for (var i = 0; i < nbb_cells.length; ++i) {\n",
       "                    if (nbb_cells[i].input_prompt_number == nbb_cell_id) {\n",
       "                        if (nbb_cells[i].get_text() == nbb_unformatted_code) {\n",
       "                             nbb_cells[i].set_text(nbb_formatted_code);\n",
       "                        }\n",
       "                        break;\n",
       "                    }\n",
       "                }\n",
       "            }, 500);\n",
       "            "
      ],
      "text/plain": [
       "<IPython.core.display.Javascript object>"
      ]
     },
     "metadata": {},
     "output_type": "display_data"
    }
   ],
   "source": [
    "# generate a graph of authors, where the weight is the number of papers shared\n",
    "G = graphing.generate_author_graph(articles)\n"
   ]
  },
  {
   "cell_type": "code",
   "execution_count": null,
   "metadata": {},
   "outputs": [],
   "source": [
    "# plot_weighted_graph(G)\n",
    "reload(graphing)\n",
    "reload(arxiv_traverser)\n",
    "\n",
    "graphing.graph(G, original_author)"
   ]
  },
  {
   "cell_type": "code",
   "execution_count": null,
   "metadata": {},
   "outputs": [],
   "source": []
  },
  {
   "cell_type": "code",
   "execution_count": null,
   "metadata": {},
   "outputs": [],
   "source": []
  }
 ],
 "metadata": {
  "kernelspec": {
   "display_name": "Python 3",
   "language": "python",
   "name": "python3"
  },
  "language_info": {
   "codemirror_mode": {
    "name": "ipython",
    "version": 3
   },
   "file_extension": ".py",
   "mimetype": "text/x-python",
   "name": "python",
   "nbconvert_exporter": "python",
   "pygments_lexer": "ipython3",
   "version": "3.7.5"
  }
 },
 "nbformat": 4,
 "nbformat_minor": 4
}
